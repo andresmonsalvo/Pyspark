{
  "nbformat": 4,
  "nbformat_minor": 0,
  "metadata": {
    "colab": {
      "name": "Pyspark7.ipynb",
      "provenance": [],
      "collapsed_sections": []
    },
    "kernelspec": {
      "name": "python3",
      "display_name": "Python 3"
    }
  },
  "cells": [
    {
      "cell_type": "code",
      "metadata": {
        "id": "s1hgJcwgdvA8"
      },
      "source": [
        "### Group By and Aggregation"
      ],
      "execution_count": 1,
      "outputs": []
    },
    {
      "cell_type": "code",
      "metadata": {
        "colab": {
          "base_uri": "https://localhost:8080/",
          "height": 651
        },
        "id": "mSHeMdzFsuOG",
        "outputId": "8893bbb1-d0c9-404c-896b-7ba79cef3678"
      },
      "source": [
        "!apt-get update\r\n",
        "!apt-get install openjdk-8-jdk-headless -qq > /dev/null\r\n",
        "!wget -q http://archive.apache.org/dist/spark/spark-2.3.1/spark-2.3.1-bin-hadoop2.7.tgz\r\n",
        "!tar xf spark-2.3.1-bin-hadoop2.7.tgz\r\n",
        "!pip install -q findspark\r\n",
        "\r\n",
        "import os\r\n",
        "os.environ[\"JAVA_HOME\"] = \"/usr/lib/jvm/java-8-openjdk-amd64\"\r\n",
        "os.environ[\"SPARK_HOME\"] = \"/content/spark-2.3.1-bin-hadoop2.7\"\r\n",
        "\r\n",
        "!ls\r\n",
        "\r\n",
        "import findspark\r\n",
        "findspark.init()\r\n",
        "\r\n",
        "import pyspark\r\n",
        "from pyspark.sql import SparkSession\r\n",
        "spark = SparkSession.builder.getOrCreate() \r\n",
        "spark"
      ],
      "execution_count": 2,
      "outputs": [
        {
          "output_type": "stream",
          "text": [
            "\r0% [Working]\r            \rGet:1 https://cloud.r-project.org/bin/linux/ubuntu bionic-cran40/ InRelease [3,626 B]\n",
            "\r0% [Connecting to archive.ubuntu.com (91.189.88.152)] [Connecting to security.u\r0% [Connecting to archive.ubuntu.com (91.189.88.152)] [Connecting to security.u\r0% [1 InRelease gpgv 3,626 B] [Connecting to archive.ubuntu.com (91.189.88.152)\r                                                                               \rIgn:2 https://developer.download.nvidia.com/compute/cuda/repos/ubuntu1804/x86_64  InRelease\n",
            "\r0% [1 InRelease gpgv 3,626 B] [Connecting to archive.ubuntu.com (91.189.88.152)\r                                                                               \rIgn:3 https://developer.download.nvidia.com/compute/machine-learning/repos/ubuntu1804/x86_64  InRelease\n",
            "\r0% [1 InRelease gpgv 3,626 B] [Connecting to archive.ubuntu.com (91.189.88.152)\r                                                                               \rGet:4 https://developer.download.nvidia.com/compute/cuda/repos/ubuntu1804/x86_64  Release [697 B]\n",
            "\r0% [1 InRelease gpgv 3,626 B] [Connecting to archive.ubuntu.com (91.189.88.152)\r                                                                               \rHit:5 https://developer.download.nvidia.com/compute/machine-learning/repos/ubuntu1804/x86_64  Release\n",
            "Get:6 https://developer.download.nvidia.com/compute/cuda/repos/ubuntu1804/x86_64  Release.gpg [836 B]\n",
            "Get:7 http://security.ubuntu.com/ubuntu bionic-security InRelease [88.7 kB]\n",
            "Hit:8 http://archive.ubuntu.com/ubuntu bionic InRelease\n",
            "Get:9 http://ppa.launchpad.net/c2d4u.team/c2d4u4.0+/ubuntu bionic InRelease [15.9 kB]\n",
            "Get:10 https://cloud.r-project.org/bin/linux/ubuntu bionic-cran40/ Packages [44.8 kB]\n",
            "Get:11 http://archive.ubuntu.com/ubuntu bionic-updates InRelease [88.7 kB]\n",
            "Hit:13 http://ppa.launchpad.net/cran/libgit2/ubuntu bionic InRelease\n",
            "Ign:14 https://developer.download.nvidia.com/compute/cuda/repos/ubuntu1804/x86_64  Packages\n",
            "Get:14 https://developer.download.nvidia.com/compute/cuda/repos/ubuntu1804/x86_64  Packages [552 kB]\n",
            "Get:15 http://archive.ubuntu.com/ubuntu bionic-backports InRelease [74.6 kB]\n",
            "Hit:16 http://ppa.launchpad.net/graphics-drivers/ppa/ubuntu bionic InRelease\n",
            "Get:17 http://ppa.launchpad.net/c2d4u.team/c2d4u4.0+/ubuntu bionic/main Sources [1,729 kB]\n",
            "Get:18 http://archive.ubuntu.com/ubuntu bionic-updates/universe amd64 Packages [2,157 kB]\n",
            "Get:19 http://ppa.launchpad.net/c2d4u.team/c2d4u4.0+/ubuntu bionic/main amd64 Packages [885 kB]\n",
            "Get:20 http://archive.ubuntu.com/ubuntu bionic-updates/main amd64 Packages [2,352 kB]\n",
            "Fetched 7,992 kB in 4s (2,181 kB/s)\n",
            "Reading package lists... Done\n",
            "original.csv  spark-2.3.1-bin-hadoop2.7\n",
            "sample_data   spark-2.3.1-bin-hadoop2.7.tgz\n"
          ],
          "name": "stdout"
        },
        {
          "output_type": "execute_result",
          "data": {
            "text/html": [
              "\n",
              "            <div>\n",
              "                <p><b>SparkSession - in-memory</b></p>\n",
              "                \n",
              "        <div>\n",
              "            <p><b>SparkContext</b></p>\n",
              "\n",
              "            <p><a href=\"http://99d3c7295128:4040\">Spark UI</a></p>\n",
              "\n",
              "            <dl>\n",
              "              <dt>Version</dt>\n",
              "                <dd><code>v2.3.1</code></dd>\n",
              "              <dt>Master</dt>\n",
              "                <dd><code>local[*]</code></dd>\n",
              "              <dt>AppName</dt>\n",
              "                <dd><code>pyspark-shell</code></dd>\n",
              "            </dl>\n",
              "        </div>\n",
              "        \n",
              "            </div>\n",
              "        "
            ],
            "text/plain": [
              "<pyspark.sql.session.SparkSession at 0x7efbf1f59cf8>"
            ]
          },
          "metadata": {
            "tags": []
          },
          "execution_count": 2
        }
      ]
    },
    {
      "cell_type": "code",
      "metadata": {
        "id": "Ni0he4Qb-SVo",
        "colab": {
          "base_uri": "https://localhost:8080/"
        },
        "outputId": "11336992-c531-437f-f2bd-f6a5e2812aa5"
      },
      "source": [
        "from pyspark.sql.types import *\r\n",
        "myschema = StructType([\r\n",
        "                       StructField('id', IntegerType()),\r\n",
        "                       StructField('first_name', StringType()),\r\n",
        "                       StructField('last_name', StringType()),\r\n",
        "                       StructField('gender', StringType()),\r\n",
        "                       StructField('city', StringType()),\r\n",
        "                       StructField('job_title', StringType()),\r\n",
        "                       StructField('Salary', StringType()),\r\n",
        "                       StructField('latitude', FloatType()),\r\n",
        "                       StructField('longitude', FloatType())\r\n",
        "])\r\n",
        "\r\n",
        "df = spark.read.csv(\"original.csv\", header=True, schema=myschema)\r\n",
        "df.show()"
      ],
      "execution_count": 5,
      "outputs": [
        {
          "output_type": "stream",
          "text": [
            "+---+----------+----------+------+---------------+--------------------+---------+----------+----------+\n",
            "| id|first_name| last_name|gender|           city|           job_title|   Salary|  latitude| longitude|\n",
            "+---+----------+----------+------+---------------+--------------------+---------+----------+----------+\n",
            "|  1|   Melinde| Shilburne|Female|      Nowa Ruda| Assistant Professor|$57438.18| 50.577408| 16.496717|\n",
            "|  2|  Kimberly|Von Welden|Female|         Bulgan|       Programmer II|$62846.60|  48.82316| 103.52182|\n",
            "|  3|    Alvera|  Di Boldi|Female|           null|                null|$57576.52| 39.994747|116.339775|\n",
            "|  4|   Shannon| O'Griffin|  Male|  Divnomorskoye|Budget/Accounting...|$61489.23| 44.504723| 38.130016|\n",
            "|  5|  Sherwood|   Macieja|  Male|      Mytishchi|            VP Sales|$63863.09|      null| 37.648994|\n",
            "|  6|     Maris|      Folk|Female|Kinsealy-Drinan|      Civil Engineer|$30101.16| 53.426613|-6.1644998|\n",
            "|  7|     Masha|    Divers|Female|         Dachun|                null|$25090.87| 24.879416|118.930115|\n",
            "|  8|   Goddart|     Flear|  Male|      Trélissac|Desktop Support T...|$46116.36| 45.190517| 0.7423124|\n",
            "|  9|      Roth|O'Cannavan|  Male|         Heitan|VP Product Manage...|$73697.10| 32.027935| 106.65711|\n",
            "| 10|      Bran|   Trahear|  Male|       Arbeláez|Mechanical System...|$68098.42|  4.272793|-74.416016|\n",
            "| 11|    Kylynn|   Lockart|Female|       El Cardo|Nuclear Power Eng...|$13604.63|     -5.85| -79.88333|\n",
            "| 12|       Rey|    Meharg|Female|    Wangqingtuo|Systems Administr...|$73423.70|  39.17238| 116.93161|\n",
            "| 13|      Kerr|    Braden|  Male|      Sułkowice|Compensation Analyst|$33432.99|  49.81518| 19.377174|\n",
            "| 14|    Mickie| Whanstall|  Male|    Springfield|Assistant Media P...|$50838.53|  42.10148|-72.576675|\n",
            "| 15|    Kaspar|     Pally|  Male|         Chrást|  Analyst Programmer|$40163.03|  49.79233| 13.491532|\n",
            "| 16|    Norbie|    Gwyllt|  Male|         Xijiao|              Editor|$32492.73| 43.494576|  5.897802|\n",
            "| 17|    Claude|    Briant|Female|      Mieścisko|Research Assistan...|$51862.48| 52.744167| 17.327864|\n",
            "| 18|     Thain|    Habbon|  Male| Foros do Trapo|     Design Engineer|$42135.67| 38.696247| -8.709834|\n",
            "| 19|  Tiffanie|  Pattison|Female|    Jabungsisir|Senior Financial ...|$91925.08|-7.7232566| 113.46868|\n",
            "| 20|    Ettore|  Gerriets|  Male|          Pedra| Staff Accountant IV|$73921.33| 40.717205|-8.3625145|\n",
            "+---+----------+----------+------+---------------+--------------------+---------+----------+----------+\n",
            "only showing top 20 rows\n",
            "\n"
          ],
          "name": "stdout"
        }
      ]
    },
    {
      "cell_type": "code",
      "metadata": {
        "colab": {
          "base_uri": "https://localhost:8080/"
        },
        "id": "nuEt1LNQ2kTV",
        "outputId": "4145fc11-355b-44fc-95c6-e90836126255"
      },
      "source": [
        "from pyspark.sql.functions import *\r\n",
        "df = df.withColumn('clean_salary', df.Salary.substr(2,100).cast('float'))\r\n",
        "df.show()"
      ],
      "execution_count": 6,
      "outputs": [
        {
          "output_type": "stream",
          "text": [
            "+---+----------+----------+------+---------------+--------------------+---------+----------+----------+------------+\n",
            "| id|first_name| last_name|gender|           city|           job_title|   Salary|  latitude| longitude|clean_salary|\n",
            "+---+----------+----------+------+---------------+--------------------+---------+----------+----------+------------+\n",
            "|  1|   Melinde| Shilburne|Female|      Nowa Ruda| Assistant Professor|$57438.18| 50.577408| 16.496717|    57438.18|\n",
            "|  2|  Kimberly|Von Welden|Female|         Bulgan|       Programmer II|$62846.60|  48.82316| 103.52182|     62846.6|\n",
            "|  3|    Alvera|  Di Boldi|Female|           null|                null|$57576.52| 39.994747|116.339775|    57576.52|\n",
            "|  4|   Shannon| O'Griffin|  Male|  Divnomorskoye|Budget/Accounting...|$61489.23| 44.504723| 38.130016|    61489.23|\n",
            "|  5|  Sherwood|   Macieja|  Male|      Mytishchi|            VP Sales|$63863.09|      null| 37.648994|    63863.09|\n",
            "|  6|     Maris|      Folk|Female|Kinsealy-Drinan|      Civil Engineer|$30101.16| 53.426613|-6.1644998|    30101.16|\n",
            "|  7|     Masha|    Divers|Female|         Dachun|                null|$25090.87| 24.879416|118.930115|    25090.87|\n",
            "|  8|   Goddart|     Flear|  Male|      Trélissac|Desktop Support T...|$46116.36| 45.190517| 0.7423124|    46116.36|\n",
            "|  9|      Roth|O'Cannavan|  Male|         Heitan|VP Product Manage...|$73697.10| 32.027935| 106.65711|     73697.1|\n",
            "| 10|      Bran|   Trahear|  Male|       Arbeláez|Mechanical System...|$68098.42|  4.272793|-74.416016|    68098.42|\n",
            "| 11|    Kylynn|   Lockart|Female|       El Cardo|Nuclear Power Eng...|$13604.63|     -5.85| -79.88333|    13604.63|\n",
            "| 12|       Rey|    Meharg|Female|    Wangqingtuo|Systems Administr...|$73423.70|  39.17238| 116.93161|     73423.7|\n",
            "| 13|      Kerr|    Braden|  Male|      Sułkowice|Compensation Analyst|$33432.99|  49.81518| 19.377174|    33432.99|\n",
            "| 14|    Mickie| Whanstall|  Male|    Springfield|Assistant Media P...|$50838.53|  42.10148|-72.576675|    50838.53|\n",
            "| 15|    Kaspar|     Pally|  Male|         Chrást|  Analyst Programmer|$40163.03|  49.79233| 13.491532|    40163.03|\n",
            "| 16|    Norbie|    Gwyllt|  Male|         Xijiao|              Editor|$32492.73| 43.494576|  5.897802|    32492.73|\n",
            "| 17|    Claude|    Briant|Female|      Mieścisko|Research Assistan...|$51862.48| 52.744167| 17.327864|    51862.48|\n",
            "| 18|     Thain|    Habbon|  Male| Foros do Trapo|     Design Engineer|$42135.67| 38.696247| -8.709834|    42135.67|\n",
            "| 19|  Tiffanie|  Pattison|Female|    Jabungsisir|Senior Financial ...|$91925.08|-7.7232566| 113.46868|    91925.08|\n",
            "| 20|    Ettore|  Gerriets|  Male|          Pedra| Staff Accountant IV|$73921.33| 40.717205|-8.3625145|    73921.33|\n",
            "+---+----------+----------+------+---------------+--------------------+---------+----------+----------+------------+\n",
            "only showing top 20 rows\n",
            "\n"
          ],
          "name": "stdout"
        }
      ]
    },
    {
      "cell_type": "code",
      "metadata": {
        "colab": {
          "base_uri": "https://localhost:8080/"
        },
        "id": "lf4vwLuh5a44",
        "outputId": "1ab401ed-6646-447f-bf00-5fb5088e3098"
      },
      "source": [
        "import pyspark.sql.functions as sqlfunc\r\n",
        "df1 = df.groupBy('gender').agg(sqlfunc.sum('clean_salary'))\r\n",
        "df1.show()"
      ],
      "execution_count": 7,
      "outputs": [
        {
          "output_type": "stream",
          "text": [
            "+------+--------------------+\n",
            "|gender|   sum(clean_salary)|\n",
            "+------+--------------------+\n",
            "|Female|2.7364519950195312E7|\n",
            "|  Male|2.8123435678710938E7|\n",
            "+------+--------------------+\n",
            "\n"
          ],
          "name": "stdout"
        }
      ]
    },
    {
      "cell_type": "code",
      "metadata": {
        "colab": {
          "base_uri": "https://localhost:8080/"
        },
        "id": "1hhb1MJD65DU",
        "outputId": "efcbb69a-c389-4e65-b51a-5b8f031179b0"
      },
      "source": [
        "df1 = df.groupBy('gender').agg(sqlfunc.sum('clean_salary').alias('total'),\r\n",
        "                               sqlfunc.avg('clean_salary').alias('average'),\r\n",
        "                               sqlfunc.min('clean_salary').alias('min'),\r\n",
        "                               sqlfunc.max('clean_salary').alias('max')                         \r\n",
        "                               )\r\n",
        "df1.show()"
      ],
      "execution_count": 9,
      "outputs": [
        {
          "output_type": "stream",
          "text": [
            "+------+--------------------+-----------------+--------+--------+\n",
            "|gender|               total|          average|     min|     max|\n",
            "+------+--------------------+-----------------+--------+--------+\n",
            "|Female|2.7364519950195312E7|55618.94298820185|10616.44|99948.28|\n",
            "|  Male|2.8123435678710938E7|55361.09385573019|10101.92|99942.92|\n",
            "+------+--------------------+-----------------+--------+--------+\n",
            "\n"
          ],
          "name": "stdout"
        }
      ]
    },
    {
      "cell_type": "code",
      "metadata": {
        "colab": {
          "base_uri": "https://localhost:8080/"
        },
        "id": "IsRrONvW7meD",
        "outputId": "b457a0be-c006-4ae4-e6dd-4d8c6a2ff253"
      },
      "source": [
        "df1 = df.groupBy('gender','city').agg(sqlfunc.sum('clean_salary').alias('total'),\r\n",
        "                               sqlfunc.avg('clean_salary').alias('average'),\r\n",
        "                               sqlfunc.min('clean_salary').alias('min'),\r\n",
        "                               sqlfunc.max('clean_salary').alias('max')                         \r\n",
        "                               )\r\n",
        "df1.show()"
      ],
      "execution_count": 10,
      "outputs": [
        {
          "output_type": "stream",
          "text": [
            "+------+-----------------+----------------+----------------+--------+--------+\n",
            "|gender|             city|           total|         average|     min|     max|\n",
            "+------+-----------------+----------------+----------------+--------+--------+\n",
            "|Female|           Dachun| 25090.869140625| 25090.869140625|25090.87|25090.87|\n",
            "|Female|      Trollhättan|106623.369140625|53311.6845703125|26830.47| 79792.9|\n",
            "|  Male|          Wenshao| 18941.509765625| 18941.509765625|18941.51|18941.51|\n",
            "|Female|            Lanas| 13765.900390625| 13765.900390625| 13765.9| 13765.9|\n",
            "|  Male|            Mörön|    77940.078125|    77940.078125|77940.08|77940.08|\n",
            "|Female|             Same|   73369.7265625|   73369.7265625|73369.73|73369.73|\n",
            "|Female|          Sawahan|  24608.83984375|  24608.83984375|24608.84|24608.84|\n",
            "|  Male|Monte da Boavista|     98586.71875|     98586.71875|98586.72|98586.72|\n",
            "|Female|         Nusajaya|    71637.921875|    71637.921875|71637.92|71637.92|\n",
            "|Female|            Kista|   96192.3984375|   96192.3984375| 96192.4| 96192.4|\n",
            "|  Male|       Pittsburgh|    83121.890625|    83121.890625|83121.89|83121.89|\n",
            "|  Male|       Neftegorsk|     97531.46875|     97531.46875|97531.47|97531.47|\n",
            "|Female|          Yanaoca|     54906.21875|     54906.21875|54906.22|54906.22|\n",
            "|  Male|            Tambo|  40264.91015625|  40264.91015625|40264.91|40264.91|\n",
            "|  Male|        Mytishchi|  63863.08984375|  63863.08984375|63863.09|63863.09|\n",
            "|  Male|            Pedra|    73921.328125|    73921.328125|73921.33|73921.33|\n",
            "|Female|            Dhaka|    68368.546875|    68368.546875|68368.55|68368.55|\n",
            "|  Male|        Mosteiros|  62508.87109375|  62508.87109375|62508.87|62508.87|\n",
            "|  Male|           Roanne|   93339.9921875|   93339.9921875|93339.99|93339.99|\n",
            "|Female|        Eindhoven| 24042.099609375| 24042.099609375| 24042.1| 24042.1|\n",
            "+------+-----------------+----------------+----------------+--------+--------+\n",
            "only showing top 20 rows\n",
            "\n"
          ],
          "name": "stdout"
        }
      ]
    },
    {
      "cell_type": "code",
      "metadata": {
        "id": "TYKxaWbBr7xZ"
      },
      "source": [
        "### Writing Dataframes to Files\r\n",
        "\r\n",
        "df1.write.csv('df1.csv')\r\n",
        "df1.write.json('df1.json')\r\n",
        "df1.write.parquet('df1.parquet')\r\n",
        "\r\n",
        "# can add partitions and compression as options"
      ],
      "execution_count": null,
      "outputs": []
    }
  ]
}