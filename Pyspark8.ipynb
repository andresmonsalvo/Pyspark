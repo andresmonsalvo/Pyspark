{
 "cells": [
  {
   "cell_type": "markdown",
   "metadata": {
    "id": "CVfsbluT92qJ"
   },
   "source": [
    "Challenge\r\n",
    "\r\n",
    "1 - Add a column that says yes for Mexico, and no...\r\n",
    "\r\n",
    "2 - Gorup by new column and summ bytes used\r\n",
    "\r\n",
    "3 - Groupd by country to calculate the # of Ip addresses"
   ]
  },
  {
   "cell_type": "code",
   "execution_count": 1,
   "metadata": {
    "colab": {
     "base_uri": "https://localhost:8080/",
     "height": 651
    },
    "id": "mSHeMdzFsuOG",
    "outputId": "d766f03d-7c7e-4b8e-9c96-b09fefc08897"
   },
   "outputs": [
    {
     "name": "stdout",
     "output_type": "stream",
     "text": [
      "Ign:1 https://developer.download.nvidia.com/compute/cuda/repos/ubuntu1804/x86_64  InRelease\n",
      "Get:2 https://cloud.r-project.org/bin/linux/ubuntu bionic-cran40/ InRelease [3,626 B]\n",
      "Get:3 http://security.ubuntu.com/ubuntu bionic-security InRelease [88.7 kB]    \n",
      "Get:4 http://ppa.launchpad.net/c2d4u.team/c2d4u4.0+/ubuntu bionic InRelease [15.9 kB]\n",
      "Ign:5 https://developer.download.nvidia.com/compute/machine-learning/repos/ubuntu1804/x86_64  InRelease\n",
      "Get:6 https://developer.download.nvidia.com/compute/cuda/repos/ubuntu1804/x86_64  Release [697 B]\n",
      "Hit:7 http://archive.ubuntu.com/ubuntu bionic InRelease\n",
      "Hit:8 https://developer.download.nvidia.com/compute/machine-learning/repos/ubuntu1804/x86_64  Release\n",
      "Get:9 https://developer.download.nvidia.com/compute/cuda/repos/ubuntu1804/x86_64  Release.gpg [836 B]\n",
      "Get:10 http://archive.ubuntu.com/ubuntu bionic-updates InRelease [88.7 kB]\n",
      "Hit:11 http://ppa.launchpad.net/cran/libgit2/ubuntu bionic InRelease\n",
      "Get:12 https://cloud.r-project.org/bin/linux/ubuntu bionic-cran40/ Packages [44.8 kB]\n",
      "Get:13 http://archive.ubuntu.com/ubuntu bionic-backports InRelease [74.6 kB]\n",
      "Hit:14 http://ppa.launchpad.net/graphics-drivers/ppa/ubuntu bionic InRelease\n",
      "Ign:16 https://developer.download.nvidia.com/compute/cuda/repos/ubuntu1804/x86_64  Packages\n",
      "Get:16 https://developer.download.nvidia.com/compute/cuda/repos/ubuntu1804/x86_64  Packages [552 kB]\n",
      "Get:17 http://ppa.launchpad.net/c2d4u.team/c2d4u4.0+/ubuntu bionic/main Sources [1,729 kB]\n",
      "Get:18 http://archive.ubuntu.com/ubuntu bionic-updates/main amd64 Packages [2,352 kB]\n",
      "Get:19 http://ppa.launchpad.net/c2d4u.team/c2d4u4.0+/ubuntu bionic/main amd64 Packages [885 kB]\n",
      "Get:20 http://archive.ubuntu.com/ubuntu bionic-updates/universe amd64 Packages [2,157 kB]\n",
      "Fetched 7,992 kB in 3s (2,929 kB/s)\n",
      "Reading package lists... Done\n",
      "challenge.csv  spark-2.3.1-bin-hadoop2.7\n",
      "sample_data    spark-2.3.1-bin-hadoop2.7.tgz\n"
     ]
    },
    {
     "data": {
      "text/html": [
       "\n",
       "            <div>\n",
       "                <p><b>SparkSession - in-memory</b></p>\n",
       "                \n",
       "        <div>\n",
       "            <p><b>SparkContext</b></p>\n",
       "\n",
       "            <p><a href=\"http://3b9681873568:4040\">Spark UI</a></p>\n",
       "\n",
       "            <dl>\n",
       "              <dt>Version</dt>\n",
       "                <dd><code>v2.3.1</code></dd>\n",
       "              <dt>Master</dt>\n",
       "                <dd><code>local[*]</code></dd>\n",
       "              <dt>AppName</dt>\n",
       "                <dd><code>pyspark-shell</code></dd>\n",
       "            </dl>\n",
       "        </div>\n",
       "        \n",
       "            </div>\n",
       "        "
      ],
      "text/plain": [
       "<pyspark.sql.session.SparkSession at 0x7f4eef117cc0>"
      ]
     },
     "execution_count": 1,
     "metadata": {
      "tags": []
     },
     "output_type": "execute_result"
    }
   ],
   "source": [
    "!apt-get update\r\n",
    "!apt-get install openjdk-8-jdk-headless -qq > /dev/null\r\n",
    "!wget -q http://archive.apache.org/dist/spark/spark-2.3.1/spark-2.3.1-bin-hadoop2.7.tgz\r\n",
    "!tar xf spark-2.3.1-bin-hadoop2.7.tgz\r\n",
    "!pip install -q findspark\r\n",
    "\r\n",
    "import os\r\n",
    "os.environ[\"JAVA_HOME\"] = \"/usr/lib/jvm/java-8-openjdk-amd64\"\r\n",
    "os.environ[\"SPARK_HOME\"] = \"/content/spark-2.3.1-bin-hadoop2.7\"\r\n",
    "\r\n",
    "!ls\r\n",
    "\r\n",
    "import findspark\r\n",
    "findspark.init()\r\n",
    "\r\n",
    "import pyspark\r\n",
    "from pyspark.sql import SparkSession\r\n",
    "spark = SparkSession.builder.getOrCreate() \r\n",
    "spark"
   ]
  },
  {
   "cell_type": "code",
   "execution_count": 4,
   "metadata": {
    "colab": {
     "base_uri": "https://localhost:8080/"
    },
    "id": "Ni0he4Qb-SVo",
    "outputId": "40846231-e5cb-49ea-ad00-75a4b2996546"
   },
   "outputs": [
    {
     "name": "stdout",
     "output_type": "stream",
     "text": [
      "+---------------+--------------+-----------------+----------+\n",
      "|     ip_address|       Country|      Domain Name|Bytes_used|\n",
      "+---------------+--------------+-----------------+----------+\n",
      "|  52.81.192.172|         China| odnoklassniki.ru|       463|\n",
      "| 119.239.207.13|         China|         youtu.be|        51|\n",
      "|  68.69.217.210|         China|        adobe.com|        10|\n",
      "|   7.191.21.223|      Bulgaria|     linkedin.com|       853|\n",
      "|   211.13.10.68|     Indonesia|          hud.gov|        29|\n",
      "|   239.80.21.97|      Suriname|       smh.com.au|       218|\n",
      "|106.214.106.233|       Jamaica|    amazonaws.com|        95|\n",
      "| 127.242.24.138|         China| surveymonkey.com|       123|\n",
      "|     99.2.6.139|Czech Republic|     geocities.jp|       322|\n",
      "|   237.54.11.63|         China|       amazon.com|        83|\n",
      "| 252.141.157.25|         Japan|      cornell.edu|       374|\n",
      "|185.220.128.248|       Belgium|       weebly.com|       389|\n",
      "|   151.77.19.45|   Afghanistan|independent.co.uk|       282|\n",
      "|  9.161.158.225|     Indonesia|    bloglines.com|       726|\n",
      "| 156.144.61.155|Czech Republic|   slideshare.net|       657|\n",
      "|   8.96.188.151|     Indonesia|          ibm.com|       517|\n",
      "|      5.72.7.65|        Mexico|         youtu.be|       877|\n",
      "|227.110.112.144|       Croatia|         ehow.com|       287|\n",
      "|    81.71.28.97|      Thailand|          last.fm|       588|\n",
      "|  9.255.129.184|      Thailand|          mtv.com|       114|\n",
      "+---------------+--------------+-----------------+----------+\n",
      "only showing top 20 rows\n",
      "\n"
     ]
    }
   ],
   "source": [
    "from pyspark.sql.types import *\r\n",
    "myschema = StructType([\r\n",
    "                       StructField('ip_address', StringType()),\r\n",
    "                       StructField('Country', StringType()),\r\n",
    "                       StructField('Domain Name', StringType()),\r\n",
    "                       StructField('Bytes_used', IntegerType())\r\n",
    "])\r\n",
    "\r\n",
    "df = spark.read.csv(\"challenge.csv\", header=True, schema=myschema)\r\n",
    "df.show()"
   ]
  },
  {
   "cell_type": "code",
   "execution_count": 7,
   "metadata": {
    "colab": {
     "base_uri": "https://localhost:8080/"
    },
    "id": "pIDiPCZ5AZXf",
    "outputId": "115a4479-e9bb-4eb7-9c91-cc299b66ad62"
   },
   "outputs": [
    {
     "data": {
      "text/plain": [
       "[('ip_address', 'string'),\n",
       " ('Country', 'string'),\n",
       " ('Domain Name', 'string'),\n",
       " ('Bytes_used', 'int')]"
      ]
     },
     "execution_count": 7,
     "metadata": {
      "tags": []
     },
     "output_type": "execute_result"
    }
   ],
   "source": [
    "df.dtypes"
   ]
  },
  {
   "cell_type": "code",
   "execution_count": 9,
   "metadata": {
    "colab": {
     "base_uri": "https://localhost:8080/"
    },
    "id": "cfYHnUpuAquz",
    "outputId": "6f8625f0-1d6a-4a80-e80b-30e35ab79dd5"
   },
   "outputs": [
    {
     "data": {
      "text/plain": [
       "[Row(ip_address='52.81.192.172', Country='China', Domain Name='odnoklassniki.ru', Bytes_used=463),\n",
       " Row(ip_address='119.239.207.13', Country='China', Domain Name='youtu.be', Bytes_used=51),\n",
       " Row(ip_address='68.69.217.210', Country='China', Domain Name='adobe.com', Bytes_used=10),\n",
       " Row(ip_address='7.191.21.223', Country='Bulgaria', Domain Name='linkedin.com', Bytes_used=853),\n",
       " Row(ip_address='211.13.10.68', Country='Indonesia', Domain Name='hud.gov', Bytes_used=29),\n",
       " Row(ip_address='239.80.21.97', Country='Suriname', Domain Name='smh.com.au', Bytes_used=218),\n",
       " Row(ip_address='106.214.106.233', Country='Jamaica', Domain Name='amazonaws.com', Bytes_used=95),\n",
       " Row(ip_address='127.242.24.138', Country='China', Domain Name='surveymonkey.com', Bytes_used=123),\n",
       " Row(ip_address='99.2.6.139', Country='Czech Republic', Domain Name='geocities.jp', Bytes_used=322),\n",
       " Row(ip_address='237.54.11.63', Country='China', Domain Name='amazon.com', Bytes_used=83),\n",
       " Row(ip_address='252.141.157.25', Country='Japan', Domain Name='cornell.edu', Bytes_used=374),\n",
       " Row(ip_address='185.220.128.248', Country='Belgium', Domain Name='weebly.com', Bytes_used=389),\n",
       " Row(ip_address='151.77.19.45', Country='Afghanistan', Domain Name='independent.co.uk', Bytes_used=282),\n",
       " Row(ip_address='9.161.158.225', Country='Indonesia', Domain Name='bloglines.com', Bytes_used=726),\n",
       " Row(ip_address='156.144.61.155', Country='Czech Republic', Domain Name='slideshare.net', Bytes_used=657),\n",
       " Row(ip_address='8.96.188.151', Country='Indonesia', Domain Name='ibm.com', Bytes_used=517),\n",
       " Row(ip_address='5.72.7.65', Country='Mexico', Domain Name='youtu.be', Bytes_used=877),\n",
       " Row(ip_address='227.110.112.144', Country='Croatia', Domain Name='ehow.com', Bytes_used=287),\n",
       " Row(ip_address='81.71.28.97', Country='Thailand', Domain Name='last.fm', Bytes_used=588),\n",
       " Row(ip_address='9.255.129.184', Country='Thailand', Domain Name='mtv.com', Bytes_used=114),\n",
       " Row(ip_address='209.166.62.189', Country='Indonesia', Domain Name='cloudflare.com', Bytes_used=595),\n",
       " Row(ip_address='35.116.221.230', Country='Russia', Domain Name='skype.com', Bytes_used=960),\n",
       " Row(ip_address='221.202.66.93', Country='Philippines', Domain Name='list-manage.com', Bytes_used=570),\n",
       " Row(ip_address='105.209.128.51', Country='Philippines', Domain Name='tumblr.com', Bytes_used=16),\n",
       " Row(ip_address='83.130.135.105', Country='Palestinian Territory', Domain Name='i2i.jp', Bytes_used=222)]"
      ]
     },
     "execution_count": 9,
     "metadata": {
      "tags": []
     },
     "output_type": "execute_result"
    }
   ],
   "source": [
    "df.head(25)"
   ]
  },
  {
   "cell_type": "code",
   "execution_count": 10,
   "metadata": {
    "colab": {
     "base_uri": "https://localhost:8080/"
    },
    "id": "_6xFiP6nA3D_",
    "outputId": "abcfc72d-7ec9-4357-e661-262feea12d67"
   },
   "outputs": [
    {
     "name": "stdout",
     "output_type": "stream",
     "text": [
      "+-------+------------+-----------+-------------+------------------+\n",
      "|summary|  ip_address|    Country|  Domain Name|        Bytes_used|\n",
      "+-------+------------+-----------+-------------+------------------+\n",
      "|  count|        1000|       1000|         1000|              1000|\n",
      "|   mean|        null|       null|         null|           514.369|\n",
      "| stddev|        null|       null|         null|287.66708047357156|\n",
      "|    min|0.23.109.109|Afghanistan|123-reg.co.uk|                 1|\n",
      "|    max|99.73.193.76|     Zambia|   zimbio.com|              1000|\n",
      "+-------+------------+-----------+-------------+------------------+\n",
      "\n"
     ]
    }
   ],
   "source": [
    "df.describe().show()"
   ]
  },
  {
   "cell_type": "code",
   "execution_count": 11,
   "metadata": {
    "colab": {
     "base_uri": "https://localhost:8080/"
    },
    "id": "Lt-tAsm8BVGM",
    "outputId": "a00634ef-33c6-49d9-fceb-d0834fc0db8d"
   },
   "outputs": [
    {
     "data": {
      "text/plain": [
       "['ip_address', 'Country', 'Domain Name', 'Bytes_used']"
      ]
     },
     "execution_count": 11,
     "metadata": {
      "tags": []
     },
     "output_type": "execute_result"
    }
   ],
   "source": [
    "df.columns"
   ]
  },
  {
   "cell_type": "code",
   "execution_count": 12,
   "metadata": {
    "colab": {
     "base_uri": "https://localhost:8080/"
    },
    "id": "aM_892dVBeiM",
    "outputId": "84a6313c-57e9-427e-f7cd-00b1bd80b32f"
   },
   "outputs": [
    {
     "data": {
      "text/plain": [
       "1000"
      ]
     },
     "execution_count": 12,
     "metadata": {
      "tags": []
     },
     "output_type": "execute_result"
    }
   ],
   "source": [
    "df.count()"
   ]
  },
  {
   "cell_type": "code",
   "execution_count": 13,
   "metadata": {
    "colab": {
     "base_uri": "https://localhost:8080/"
    },
    "id": "9s3sjQ_EBhN7",
    "outputId": "7e0ba0ea-c981-41e2-a21e-c879ee9c0c1c"
   },
   "outputs": [
    {
     "data": {
      "text/plain": [
       "1000"
      ]
     },
     "execution_count": 13,
     "metadata": {
      "tags": []
     },
     "output_type": "execute_result"
    }
   ],
   "source": [
    "df.distinct().count()"
   ]
  },
  {
   "cell_type": "code",
   "execution_count": 19,
   "metadata": {
    "colab": {
     "base_uri": "https://localhost:8080/"
    },
    "id": "nuEt1LNQ2kTV",
    "outputId": "a113adde-6f68-4dc5-9853-f646b61d66c7"
   },
   "outputs": [
    {
     "name": "stdout",
     "output_type": "stream",
     "text": [
      "+---------------+--------------+-----------------+----------+------+\n",
      "|     ip_address|       Country|      Domain Name|Bytes_used|Mexico|\n",
      "+---------------+--------------+-----------------+----------+------+\n",
      "|  52.81.192.172|         China| odnoklassniki.ru|       463|    no|\n",
      "| 119.239.207.13|         China|         youtu.be|        51|    no|\n",
      "|  68.69.217.210|         China|        adobe.com|        10|    no|\n",
      "|   7.191.21.223|      Bulgaria|     linkedin.com|       853|    no|\n",
      "|   211.13.10.68|     Indonesia|          hud.gov|        29|    no|\n",
      "|   239.80.21.97|      Suriname|       smh.com.au|       218|    no|\n",
      "|106.214.106.233|       Jamaica|    amazonaws.com|        95|    no|\n",
      "| 127.242.24.138|         China| surveymonkey.com|       123|    no|\n",
      "|     99.2.6.139|Czech Republic|     geocities.jp|       322|    no|\n",
      "|   237.54.11.63|         China|       amazon.com|        83|    no|\n",
      "| 252.141.157.25|         Japan|      cornell.edu|       374|    no|\n",
      "|185.220.128.248|       Belgium|       weebly.com|       389|    no|\n",
      "|   151.77.19.45|   Afghanistan|independent.co.uk|       282|    no|\n",
      "|  9.161.158.225|     Indonesia|    bloglines.com|       726|    no|\n",
      "| 156.144.61.155|Czech Republic|   slideshare.net|       657|    no|\n",
      "|   8.96.188.151|     Indonesia|          ibm.com|       517|    no|\n",
      "|      5.72.7.65|        Mexico|         youtu.be|       877|   Yes|\n",
      "|227.110.112.144|       Croatia|         ehow.com|       287|    no|\n",
      "|    81.71.28.97|      Thailand|          last.fm|       588|    no|\n",
      "|  9.255.129.184|      Thailand|          mtv.com|       114|    no|\n",
      "+---------------+--------------+-----------------+----------+------+\n",
      "only showing top 20 rows\n",
      "\n"
     ]
    }
   ],
   "source": [
    "from pyspark.sql.functions import *\r\n",
    "\r\n",
    "df = df.withColumn('Mexico', when(df.Country == 'Mexico', 'Yes').otherwise('no'))\r\n",
    "df.show()"
   ]
  },
  {
   "cell_type": "code",
   "execution_count": 22,
   "metadata": {
    "colab": {
     "base_uri": "https://localhost:8080/"
    },
    "id": "Hr8VMfXNM4tN",
    "outputId": "64213197-6eed-4fd9-a2da-ddfe0cd91a55"
   },
   "outputs": [
    {
     "name": "stdout",
     "output_type": "stream",
     "text": [
      "+------+---------------+\n",
      "|Mexico|sum(Bytes_used)|\n",
      "+------+---------------+\n",
      "|   Yes|           6293|\n",
      "|    no|         508076|\n",
      "+------+---------------+\n",
      "\n"
     ]
    }
   ],
   "source": [
    "import pyspark.sql.functions as sqlfunc\r\n",
    "df1 = df.groupBy('Mexico').agg(sqlfunc.sum('Bytes_used'))\r\n",
    "df1.show()"
   ]
  },
  {
   "cell_type": "code",
   "execution_count": 26,
   "metadata": {
    "colab": {
     "base_uri": "https://localhost:8080/"
    },
    "id": "lf4vwLuh5a44",
    "outputId": "6131df50-55d4-4da6-9314-60ad1d403b97"
   },
   "outputs": [
    {
     "name": "stdout",
     "output_type": "stream",
     "text": [
      "+--------------+-------------+\n",
      "|       Country|number of ips|\n",
      "+--------------+-------------+\n",
      "|         China|          172|\n",
      "|     Indonesia|          114|\n",
      "|   Philippines|           65|\n",
      "|        Russia|           56|\n",
      "|        Brazil|           35|\n",
      "|        Poland|           31|\n",
      "|        Sweden|           28|\n",
      "|         Japan|           25|\n",
      "|      Portugal|           23|\n",
      "|Czech Republic|           23|\n",
      "|        France|           21|\n",
      "|          Peru|           19|\n",
      "|      Colombia|           17|\n",
      "| United States|           15|\n",
      "|     Argentina|           14|\n",
      "|       Ukraine|           14|\n",
      "|        Mexico|           13|\n",
      "|      Thailand|           12|\n",
      "|       Nigeria|           11|\n",
      "|        Canada|           11|\n",
      "+--------------+-------------+\n",
      "only showing top 20 rows\n",
      "\n"
     ]
    }
   ],
   "source": [
    "import pyspark.sql.functions as sqlfunc\r\n",
    "df1 = df.groupBy('Country').agg(sqlfunc.countDistinct('ip_address').alias('number of ips'))\r\n",
    "df1.sort(col('number of ips').desc()).show()"
   ]
  }
 ],
 "metadata": {
  "colab": {
   "collapsed_sections": [],
   "name": "Pyspark8.ipynb",
   "provenance": []
  },
  "kernelspec": {
   "display_name": "Python 3",
   "language": "python",
   "name": "python3"
  },
  "language_info": {
   "codemirror_mode": {
    "name": "ipython",
    "version": 3
   },
   "file_extension": ".py",
   "mimetype": "text/x-python",
   "name": "python",
   "nbconvert_exporter": "python",
   "pygments_lexer": "ipython3",
   "version": "3.8.3"
  }
 },
 "nbformat": 4,
 "nbformat_minor": 4
}
